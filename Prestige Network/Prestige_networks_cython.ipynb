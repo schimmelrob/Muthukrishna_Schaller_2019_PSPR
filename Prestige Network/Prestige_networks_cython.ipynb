{
  "nbformat": 4,
  "nbformat_minor": 0,
  "metadata": {
    "colab": {
      "name": "Prestige networks cython.ipynb",
      "provenance": [],
      "collapsed_sections": [],
      "include_colab_link": true
    },
    "kernelspec": {
      "name": "python3",
      "display_name": "Python 3"
    }
  },
  "cells": [
    {
      "cell_type": "markdown",
      "metadata": {
        "id": "view-in-github",
        "colab_type": "text"
      },
      "source": [
        "<a href=\"https://colab.research.google.com/github/schnelleric/Psychology-of-Human-Social-Networks/blob/master/Prestige_networks_cython.ipynb\" target=\"_parent\"><img src=\"https://colab.research.google.com/assets/colab-badge.svg\" alt=\"Open In Colab\"/></a>"
      ]
    },
    {
      "cell_type": "markdown",
      "metadata": {
        "id": "5zgJ_VX5_yT9",
        "colab_type": "text"
      },
      "source": [
        "#Modeling a human social network using prestige\n",
        "\n",
        "The network begins as a grid of size n by m. Each node in the grid is connected to their neighbours above them, below them, and to their left and right.\n",
        "\n",
        "An algorithm for adding new edges between nodes is then applied to the network. This algorithm is based on observed dynamics in human social learning based on cultural evolutionary theory. Specifically, it mimics how individuals try to connect to prestigious members of their community or network where prestige is defined as eigenvector centrality. However, it is also factors in that physical distance within a network introduces inefficiencies. That is that two individuals who are far apart from one another are less likely to connect as they are less likely to meet.\n",
        "\n",
        "The algorithm works by first selecting a node, node A, at random within the network. Then every other node is given a probability of also being selected to connect with this node A. Given another node B in the network, the probability b is chosen to connect to A is given as follows:\n",
        "\n",
        "$p_{b} = v_{b} \\cdot e^{-2k_{ab}}$\n",
        "\n",
        "$v_{b}$ is the eigenvector centrality of node B, which represents B's prestige. $k_{ab}$ is the shortest distance between node A and node B, or the least number of edges that must be crossed to get from A to B. For instance, this means neighbouring nodes have a distance of 1. $e^{-2k}$ is a decay function which then prioritizes nodes closer to A. [PLOT decay function]. \n",
        "\n",
        "As a special case if for some node C, $k_{ac} = 1$, then $p_{c} = 0$. This represents the case where C is a neighbour of A, so there already exists an edge between A and C. As a result, C cannot be selected to receive a new edge with A.\n",
        "\n",
        "These probabilities are then multiplied by $(\\sum_{n}{p_{n}})^{-1}$ to normalize the values and ensure that the probabilities add up to 1.\n",
        "\n",
        "This algorithm repeats until the desired average shortest path length provided is reached.\n",
        "\n",
        "Given a desired average shortest path of 3.4, the network generated mimics human social networks with a clustering coeffecient between 0.1 and 0.2, depending on the size of the network, and a degree distribution following a powerlaw distribution."
      ]
    },
    {
      "cell_type": "code",
      "metadata": {
        "id": "PZuI-nEaV-Rm",
        "colab_type": "code",
        "outputId": "b6a535ff-703e-467b-b195-c9efd2204140",
        "colab": {
          "base_uri": "https://localhost:8080/",
          "height": 50
        }
      },
      "source": [
        "#!python\n",
        "#cython: language_level=3\n",
        "%load_ext Cython\n",
        "\n",
        "import networkx as nx\n",
        "import numpy as np\n",
        "import random\n",
        "import matplotlib.pyplot as plt\n",
        "import collections\n",
        "import scipy.stats as stats\n",
        "import math\n",
        "import time"
      ],
      "execution_count": 0,
      "outputs": [
        {
          "output_type": "stream",
          "text": [
            "The Cython extension is already loaded. To reload it, use:\n",
            "  %reload_ext Cython\n"
          ],
          "name": "stdout"
        }
      ]
    },
    {
      "cell_type": "markdown",
      "metadata": {
        "id": "MjrJQMa0v3vm",
        "colab_type": "text"
      },
      "source": [
        "The following is a plot of the decay function used, $e^{-2k}$."
      ]
    },
    {
      "cell_type": "code",
      "metadata": {
        "id": "sVdXgPRkv5rv",
        "colab_type": "code",
        "outputId": "3310c70e-1975-4d06-8afc-d331b118f930",
        "colab": {
          "base_uri": "https://localhost:8080/",
          "height": 295
        }
      },
      "source": [
        "k = np.linspace(0,5,100)\n",
        "y = []\n",
        "for val in k:\n",
        "    y.append(math.exp(-2*val))\n",
        "plt.plot(k, y)\n",
        "plt.title(\"Decay function e^(-2k)\")\n",
        "plt.ylabel(\"e^(-2k)\")\n",
        "plt.xlabel('k')\n",
        "plt.show()\n"
      ],
      "execution_count": 0,
      "outputs": [
        {
          "output_type": "display_data",
          "data": {
            "image/png": "[encoded data removed]",
            "text/plain": [
              "<Figure size 432x288 with 1 Axes>"
            ]
          },
          "metadata": {
            "tags": [],
            "needs_background": "light"
          }
        }
      ]
    },
    {
      "cell_type": "code",
      "metadata": {
        "id": "qPpTMCaF_2Br",
        "colab_type": "code",
        "colab": {}
      },
      "source": [
        "%%cython\n",
        "import math\n",
        "import random\n",
        "import networkx as nx\n",
        "def human_social_network_prestige(grid, geodesic):\n",
        "    \"\"\"\n",
        "    Returns a network that mimics human social networks where people try to connect to prestigious individuals \n",
        "    within the network. The prestige of a node in the network is its eigenvector centrality. A decay function \n",
        "    is also employed, where connections are more likely between two nodes near one another.\n",
        "\n",
        "    Parameters\n",
        "    ----------\n",
        "    grid : (int, int)\n",
        "        Tuple of grid dimensions. Number of nodes in network is grid[0]*grid[1]\n",
        "    geodesic : float\n",
        "        Desired average shortest path length\n",
        "        This will be treated as an upper bound\n",
        "\n",
        "    Notes\n",
        "    -----\n",
        "    The algorithm works by creating a grid where nodes are connected to their neighbors\n",
        "    to the North, South, East, and West. The top and bottom of the grid and left and right\n",
        "    are connected to form a torus, ensuring all nodes have the same number of edges initially.\n",
        "\n",
        "    At each iteration one node (A) is selected at random to receive a new edge with another node (B).\n",
        "    A node is more likely to be selected as node B if it has a higher eigenvector centrality and if it is \n",
        "    close to node A, with an exponential decay function being employed based on the distance from node A.\n",
        "    \"\"\"\n",
        "    cdef int j, r\n",
        "    cdef float dist, w\n",
        "    cdef object G, n, nbr, a\n",
        "    cdef list nbrs, nodes, odds\n",
        "    cdef dict centrality\n",
        "\n",
        "    # Set up the graph with connections between neighbors\n",
        "    G = nx.grid_2d_graph(grid[0], grid[1], True)\n",
        "    G = nx.convert_node_labels_to_integers(G)\n",
        "    r = int(round((grid[0] * grid[1]) / 4))\n",
        "\n",
        "    while geodesic < nx.average_shortest_path_length(G):\n",
        "        # Only check for desired geodesic every r iterations as the operation is very time consuming\n",
        "        for j in range(r):\n",
        "            # Select random person\n",
        "            nodes = list(G.nodes)\n",
        "            n = random.choice(nodes)\n",
        "            odds = []\n",
        "            centrality = nx.eigenvector_centrality_numpy(G)\n",
        "            nbrs = [nbr for nbr in G[n]]\n",
        "            nbrs.append(n)\n",
        "\n",
        "            for optn in nodes:\n",
        "                if optn in nbrs:\n",
        "                    odds.append(0)\n",
        "                else:\n",
        "                    dist = nx.shortest_path_length(G, n, optn)\n",
        "                    # Set the odds of being connected to based on eigenvector centrality of the option and its\n",
        "                    # distance from n\n",
        "                    w = centrality[optn] * math.exp(-2*dist)\n",
        "                    odds.append(w)\n",
        "\n",
        "            # Select at random a new connection for n from the list of options given the assigned odds\n",
        "            a = random.choices(nodes, cum_weights=odds, k=1)[0]\n",
        "            G.add_edge(n, a)\n",
        "\n",
        "    return G\n"
      ],
      "execution_count": 0,
      "outputs": []
    },
    {
      "cell_type": "markdown",
      "metadata": {
        "id": "gNLOZUTw9Pcw",
        "colab_type": "text"
      },
      "source": [
        "Make a network."
      ]
    },
    {
      "cell_type": "code",
      "metadata": {
        "id": "70-4cgRlWsV8",
        "colab_type": "code",
        "outputId": "be6729f0-2054-4e01-f566-b20ee7cd126c",
        "colab": {
          "base_uri": "https://localhost:8080/",
          "height": 34
        }
      },
      "source": [
        "start = time.time()\n",
        "G = human_social_network_prestige((30, 30), 3.4)\n",
        "print(time.time()-start)"
      ],
      "execution_count": 0,
      "outputs": [
        {
          "output_type": "stream",
          "text": [
            "92.34813833236694\n"
          ],
          "name": "stdout"
        }
      ]
    },
    {
      "cell_type": "markdown",
      "metadata": {
        "id": "OhokfMJrqisd",
        "colab_type": "text"
      },
      "source": [
        "The following are functions to provide additional information for a given network. One function plots the degree distribution of the network while the other provides the networks geodesic, clustering coefficient, and details relating to the degree distribution's similarity to a power law.\n",
        "\n",
        "Note that the degree distribution plot uses a logarithmic scale for both axes. The y axis also represents the fraction of the network with a given degree, rather than the total number of nodes with that degree."
      ]
    },
    {
      "cell_type": "code",
      "metadata": {
        "id": "AqCVwv7rAryd",
        "colab_type": "code",
        "colab": {}
      },
      "source": [
        "def degree_distribution_plot(G):\n",
        "    \"\"\"\n",
        "    Makes a plot for the degree distribution of the inputted graph where the y axis corresponds to the fraction of nodes\n",
        "    in the graph and the x axis corresponds to the degree of a node. Both axes use a logarithmic scale.\n",
        "\n",
        "    Parameters\n",
        "    ----------\n",
        "    G : Graph\n",
        "        A graph corresponding to a human social network.\n",
        "\n",
        "    Notes\n",
        "    -----\n",
        "    Values on axes are predetermined and may not be optimal for a given graph.\n",
        "    \"\"\"\n",
        "\n",
        "    # Adapted from https://networkx.github.io/documentation/stable/auto_examples/drawing/plot_degree_histogram.html\n",
        "    degrees = [G.degree(n) for n in G.nodes]\n",
        "    degreeCount = collections.Counter(degrees)\n",
        "    deg, cnt = zip(*degreeCount.items())\n",
        "    cnt_frac = []\n",
        "    for i in range(len(cnt)):\n",
        "        cnt_frac.append(cnt[i] / G.number_of_nodes())\n",
        "\n",
        "    plt.scatter(deg, cnt_frac, s=10)\n",
        "\n",
        "    plt.title(\"Degree Distribution\")\n",
        "    plt.ylabel(\"Fraction\")\n",
        "    plt.yscale(\"log\")\n",
        "    y_ticks = [1, 0.1, 0.01, 0.001, 0.0001]\n",
        "    plt.yticks(y_ticks, y_ticks)\n",
        "    plt.xlabel(\"Degree\")\n",
        "    plt.xscale(\"log\")\n",
        "    x_ticks = [3, 30, 300]\n",
        "    plt.xticks(x_ticks, x_ticks)\n",
        "\n",
        "    plt.show(block=False)"
      ],
      "execution_count": 0,
      "outputs": []
    },
    {
      "cell_type": "markdown",
      "metadata": {
        "id": "rMujwu7F9WQb",
        "colab_type": "text"
      },
      "source": [
        "Plot the network's degree distribution."
      ]
    },
    {
      "cell_type": "code",
      "metadata": {
        "id": "tFt0Gy4PWJ9M",
        "colab_type": "code",
        "outputId": "7ab402e8-98de-46ea-c0bd-71a4d67b3190",
        "colab": {
          "base_uri": "https://localhost:8080/",
          "height": 295
        }
      },
      "source": [
        "degree_distribution_plot(G)\n",
        "plt.show()"
      ],
      "execution_count": 0,
      "outputs": [
        {
          "output_type": "display_data",
          "data": {
            "image/png": "[encoded data removed]",
            "text/plain": [
              "<Figure size 432x288 with 1 Axes>"
            ]
          },
          "metadata": {
            "tags": [],
            "needs_background": "light"
          }
        }
      ]
    },
    {
      "cell_type": "code",
      "metadata": {
        "id": "OH1jqwFEA_CV",
        "colab_type": "code",
        "colab": {}
      },
      "source": [
        "def graph_statistics(G):\n",
        "    \"\"\"\n",
        "    Prints the characteristic path length (geodesic) of the inputted network G, the clustering coefficient of G,\n",
        "    and Kolmogorov-Smirnov test results for the similarity of the degree distribution of G with a power law\n",
        "    distribution.\n",
        "\n",
        "    Parameters\n",
        "    ----------\n",
        "    G : Graph\n",
        "        A graph corresponding to a human social network.\n",
        "\n",
        "    Notes\n",
        "    -----\n",
        "    KS test is currently not working properly\n",
        "    \"\"\"\n",
        "\n",
        "    curr_geodesic = nx.average_shortest_path_length(G)\n",
        "    curr_clustering = nx.average_clustering(G)\n",
        "\n",
        "    degrees = [G.degree(n) for n in G.nodes]\n",
        "\n",
        "    # Does not seem to properly fit to a powerlaw\n",
        "    a, l, s = stats.powerlaw.fit(degrees)\n",
        "\n",
        "    ks, p = stats.kstest(degrees, \"powerlaw\", args=(a, l, s))\n",
        "\n",
        "\n",
        "    print(\"Geodesic: \" + str(curr_geodesic) + \"; Clustering: \" + str(curr_clustering) +\n",
        "          \"; Degree Distribution: alpha = \" + str(a) + \", KS = \" + str(ks) + \", p = \" + str(p))\n",
        "\n",
        "    return (curr_geodesic, curr_clustering, a, ks, p)"
      ],
      "execution_count": 0,
      "outputs": []
    },
    {
      "cell_type": "markdown",
      "metadata": {
        "id": "JezRNgTX9fL8",
        "colab_type": "text"
      },
      "source": [
        "Print statistics relating to the network."
      ]
    },
    {
      "cell_type": "code",
      "metadata": {
        "id": "FRPF7gAAWM3e",
        "colab_type": "code",
        "outputId": "a051a9aa-729b-4dcf-a49c-950b53d31d64",
        "colab": {
          "base_uri": "https://localhost:8080/",
          "height": 118
        }
      },
      "source": [
        "graph_statistics(G)"
      ],
      "execution_count": 0,
      "outputs": [
        {
          "output_type": "stream",
          "text": [
            "Geodesic: 3.3761092571993574; Clustering: 0.1423865029454668; Degree Distribution: alpha = 0.27226240786726796, KS = 0.4382177456647753, p = 8.349170850203342e-158\n"
          ],
          "name": "stdout"
        },
        {
          "output_type": "execute_result",
          "data": {
            "text/plain": [
              "(3.3761092571993574,\n",
              " 0.1423865029454668,\n",
              " 0.27226240786726796,\n",
              " 0.4382177456647753,\n",
              " 8.349170850203342e-158)"
            ]
          },
          "metadata": {
            "tags": []
          },
          "execution_count": 22
        }
      ]
    }
  ]
}